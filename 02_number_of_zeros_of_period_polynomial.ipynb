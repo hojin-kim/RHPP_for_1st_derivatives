{
 "cells": [
  {
   "cell_type": "markdown",
   "metadata": {},
   "source": [
    "## The SageMath code for [1], Section 3.5  (continued)"
   ]
  },
  {
   "cell_type": "markdown",
   "metadata": {},
   "source": [
    "Refer to the introduction for \"01_L_values.ipynb\". \n",
    "This is the second part of our code for [1], Section 3.5.\n",
    "\n",
    "--- \n",
    "\n",
    "Reference(s) : \n",
    "\n",
    "[1] Im, Bo-Hae; Kim, Hojin; Riemann hypothesis for period polynomials attached to the derivatives of $L$-functions of cusp forms for $Γ_0(N)$. _J. Math. Anal. Appl._ 509 (2022), no. 2, Paper No. 125971."
   ]
  },
  {
   "cell_type": "code",
   "execution_count": null,
   "metadata": {},
   "outputs": [],
   "source": [
    "import numpy as np\n",
    "import pandas as pd\n",
    "import pickle"
   ]
  },
  {
   "cell_type": "code",
   "execution_count": null,
   "metadata": {},
   "outputs": [],
   "source": [
    "# This function test if the polynomial, which is sum of trigonometric functions on the \n",
    "#     unit circle, has all of its zeros on the unit circle, based on the Pólya's or Szegö's methods.\n",
    "\n",
    "# Input : The tuple of the following data: \n",
    "#   - the table of $L'$ values,\n",
    "#   - the weight of cusp form,\n",
    "#   - epsilon value. This value is 1 or -1 and satisfies $Lambda(s) = eps*Lambda(weight-s)$ \n",
    "#         where Lambda is the completed L-function.\n",
    "#\n",
    "# Return : True if all of zeros lie on the unit circle; False otherwise.\n",
    "\n",
    "def test1(df, weight, eps):\n",
    "    m = (weight-2)/2\n",
    "    \n",
    "    if eps == -1: \n",
    "        if df['L_deriv'].loc[np.int(weight/2)] <0 : \n",
    "            return false \n",
    "\n",
    "    if not binomial(2*m,m)*df['L_deriv'].loc[np.int(weight/2)]<= \\\n",
    "            2*binomial(2*m, m+1)*df['L_deriv'].loc[np.int(weight/2 + 1)]:\n",
    "        return false\n",
    "    else:\n",
    "        for j in range(1, m-1):\n",
    "            if not binomial(2*m,m+j)*df['L_deriv'].loc[np.int(weight/2+j)]<= \\\n",
    "                    2*binomial(2*m, m+1+j) *df['L_deriv'].loc[np.int(weight/2+1+j)]:\n",
    "                return false\n",
    "    return true"
   ]
  },
  {
   "cell_type": "code",
   "execution_count": null,
   "metadata": {},
   "outputs": [],
   "source": [
    "# This function do the same test, but with more explicit way. It tracks the sign changes of\n",
    "#     given polynomial on the unit circle. \n",
    "\n",
    "# Input : The tuple of the following data: \n",
    "#  1. the table of $L'$ values,\n",
    "#  2. the weight of cusp form,\n",
    "#  3. epsilon value. This value is 1 or -1 and satisfies $\\Lambda(s) = eps * \\Lambda(k-s)$ \n",
    "#         where Lambda is the completed L-function and is the weight. \n",
    "#\n",
    "# Return : True if all of zeros lie on the unit circle; False otherwise. \n",
    "\n",
    "def test2(*args): \n",
    "    L_d_values = args[0]\n",
    "    weight = args[1]\n",
    "    eps = args[2]\n",
    "\n",
    "    def temp(*ar): # it defines the period polynomial on the unit circle, parametrized by the angle.\n",
    "        x = ar[0]\n",
    "        L_d_values = ar[1]\n",
    "        weight = ar[2]\n",
    "        eps = ar[3]\n",
    "\n",
    "        if eps == 1:\n",
    "            return sum([binomial(weight-2,j) * L_d_values[j] * sin((weight/2 -1 -j)*x) \n",
    "                        for j in range(0, weight/2-1)])\n",
    "        elif eps == -1:\n",
    "            return sum([binomial(weight-2,j) * L_d_values[j] * cos((weight/2 -1 -j)*x) \n",
    "                        for j in range(0, weight/2-1)]) + \\\n",
    "                    0.5* binomial(weight-2,weight/2-1) * L_d_values[weight/2-1]\n",
    "        \n",
    "    myfunc(x) = temp(x, L_d_values, weight, eps)\n",
    "    \n",
    "    if eps == 1:\n",
    "        # In this case, our function is the sum of sine functions and has zero at the origin.\n",
    "        temp = [0]\n",
    "    else:\n",
    "        temp = []\n",
    "\n",
    "    # The test would fail even if the statement to verify is true, since it tracks\n",
    "    #     the sign changes by calcuating the value of function of \"many\" points\n",
    "    #     in [0, 2pi]. Here \"many\" is \"big\" * weight, where \"big\" is defined below.\n",
    "    # So, when this test fails, one can re-run this code with bigger value for the \"big\" value.\n",
    "    big = 8 \n",
    "    xcors = np.linspace(0, 2*np.pi, num=big*weight).tolist()\n",
    "\n",
    "    if eps == 1:\n",
    "        temp_value = np.nan\n",
    "        for idx, xcor in enumerate(xcors[0:-1]):\n",
    "            if idx == 0:\n",
    "                temp_value = myfunc(xcors[idx+1])\n",
    "\n",
    "            else:\n",
    "                temp_value2 = myfunc(xcors[idx+1])\n",
    "\n",
    "                if temp_value * temp_value2 <0:\n",
    "                    temp.append(idx)\n",
    "                temp_value = temp_value2\n",
    "    else:\n",
    "        for idx, xcor in enumerate(xcors[0:-1]):\n",
    "            if idx == 0 :\n",
    "                temp_value = myfunc(xcors[1])\n",
    "                if myfunc(xcors[0]) * temp_value <0:\n",
    "                    temp.append(idx)\n",
    "            else:\n",
    "                temp_value2 = myfunc(xcors[idx+1])\n",
    "                \n",
    "                if temp_value * temp_value2 <0:\n",
    "                    temp.append(idx)\n",
    "                temp_value = temp_value2\n",
    "                \n",
    "    if len(temp) != len(set(temp)):\n",
    "        print('alert!')\n",
    "        raise AttributeError\n",
    "\n",
    "    if len(temp) == weight -2 :\n",
    "        return True\n",
    "    elif len(temp) > weight-2 : # something went wrong\n",
    "        raise AttributeError\n",
    "    else:\n",
    "        return False"
   ]
  },
  {
   "cell_type": "code",
   "execution_count": null,
   "metadata": {},
   "outputs": [],
   "source": [
    "# Location of the pickle file for L'-values\n",
    "directory = r\"./L_values\"\n",
    "filelist = sorted([file for file in os.listdir(directory)], key = lambda name : int(name[1:-4]))"
   ]
  },
  {
   "cell_type": "code",
   "execution_count": null,
   "metadata": {},
   "outputs": [],
   "source": [
    "success = [] \n",
    "failure = []\n",
    "error = []"
   ]
  },
  {
   "cell_type": "code",
   "execution_count": null,
   "metadata": {},
   "outputs": [],
   "source": [
    "for file in filelist:\n",
    "    file = '{}/{}'.format(directory, file)\n",
    "    with open(file, 'rb') as reading:\n",
    "        data_for_certain_m = pickle.load(reading)\n",
    "        for data_for_certain_form in data_for_certain_m:\n",
    "            weight, level, idx, eps, df = data_for_certain_form\n",
    "            pwr = np.floor(np.log(abs(df['L_deriv'].iloc[int(weight//2)]))/np.log(10))\n",
    "            try:\n",
    "                if test2(np.array(df['L_deriv'])/10**(pwr-1), weight, eps):\n",
    "                    success.append([weight, level, idx])\n",
    "                else:\n",
    "                    failure.append(data_for_certain_form)\n",
    "            except:\n",
    "                error.append(data_for_certain_form)"
   ]
  },
  {
   "cell_type": "code",
   "execution_count": null,
   "metadata": {
    "scrolled": true
   },
   "outputs": [],
   "source": [
    "failure, error \n",
    "# It they are empty lists, thne all of them has passed the test."
   ]
  },
  {
   "cell_type": "code",
   "execution_count": null,
   "metadata": {},
   "outputs": [],
   "source": [
    "success"
   ]
  }
 ],
 "metadata": {
  "kernelspec": {
   "display_name": "SageMath 9.2",
   "language": "sage",
   "name": "python385jvsc74a57bd05681e4afac3624ff751880a42591b0f400fe749125e95d941324e9e3a94b4620"
  },
  "language_info": {
   "codemirror_mode": {
    "name": "ipython",
    "version": 3
   },
   "file_extension": ".py",
   "mimetype": "text/x-python",
   "name": "python",
   "nbconvert_exporter": "python",
   "pygments_lexer": "ipython3",
   "version": "3.8.5"
  }
 },
 "nbformat": 4,
 "nbformat_minor": 4
}
